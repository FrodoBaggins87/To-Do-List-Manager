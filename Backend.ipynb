{
 "cells": [
  {
   "cell_type": "code",
   "execution_count": null,
   "metadata": {},
   "outputs": [],
   "source": [
    "#Backend for To_Do list manager"
   ]
  },
  {
   "cell_type": "code",
   "execution_count": null,
   "metadata": {},
   "outputs": [],
   "source": [
    "from datetime import datetime\n",
    "import json"
   ]
  },
  {
   "cell_type": "code",
   "execution_count": null,
   "metadata": {},
   "outputs": [],
   "source": [
    "print(\"<<<<Welcome to Task Manager>>>>\")\n",
    "class tasks:\n",
    "    def __init__(self, nam, desc,prior,dead):\n",
    "        self.name=nam\n",
    "        self.description=desc\n",
    "        self.priority=prior\n",
    "        self.deadline=dead\n",
    "tasks= #load from some file\n",
    "print(\"Your current uncompleted tasks are as follows\\n\")\n",
    "print(*tasks, sep= '\\n')\n"
   ]
  },
  {
   "cell_type": "code",
   "execution_count": null,
   "metadata": {},
   "outputs": [],
   "source": [
    "i=0 #number of times below function is called in one session\n",
    "def new_task_input():\n",
    "    i+=1\n",
    "    format=input(\"Do you want to use 12 hour format or 24 hour format? Default format is 24 hr format. Type 12 for 12 hour format:\")\n",
    "    Name=input(\"Give name of Task:\")\n",
    "    Description=input(\"Give description of Task:\")\n",
    "    priority=float(input(\"Give priority of Task from 0 to 10:\"))\n",
    "    datetime_format_24='%Y-%m-%d %H:%M:%S'\n",
    "    datetime_format_12='%d-%m-%Y %I:%M %p'\n",
    "    if format=='12':\n",
    "        deadline=datetime.strptime(input(\"Give deadline\"), datetime_format_12) #date should be input in format '28-02-2023 02:30 PM'(MMDDYYYY)\n",
    "    else: \n",
    "        deadline=datetime.strptime(input(\"Give deadline\"), datetime_format_24) #date should be input in format '2023-02-28 14:30:00'\n",
    "        \n",
    "    deadline_timestamp=datetime.timestamp(deadline) #Gives the UNIX timestamp\n",
    "    new_task={'NAME':Name,'DESCRIPTION':Description,'PRIORITY':priority,'DEADLINE':deadline}\n",
    "    added_task\n",
    "    with open('tasks.json','a') as outfile: #'a' specifies only for appending file\n",
    "        json.dump(new_task, outfile)"
   ]
  },
  {
   "cell_type": "code",
   "execution_count": null,
   "metadata": {},
   "outputs": [],
   "source": [
    "action=('Press ADD to add a new task, VIEW ')"
   ]
  }
 ],
 "metadata": {
  "language_info": {
   "name": "python"
  }
 },
 "nbformat": 4,
 "nbformat_minor": 2
}
