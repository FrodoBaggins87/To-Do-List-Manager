{
 "cells": [
  {
   "cell_type": "code",
   "execution_count": null,
   "metadata": {},
   "outputs": [],
   "source": [
    "#Backend for To_Do list manager"
   ]
  },
  {
   "cell_type": "code",
   "execution_count": null,
   "metadata": {},
   "outputs": [],
   "source": [
    "from datetime import datetime\n",
    "import json"
   ]
  },
  {
   "cell_type": "code",
   "execution_count": null,
   "metadata": {},
   "outputs": [],
   "source": [
    "print(\"<<<<Welcome to Task Manager>>>>\")\n",
    "imp_file=open('tasks.json')\n",
    "data_dict=json.load(imp_file)\n",
    "time_format=data_dict[\"time_format\"]\n",
    "class tasks:\n",
    "    def __init__(self, nam, desc,prior,dead):\n",
    "        self.name=nam\n",
    "        self.description=desc\n",
    "        self.priority=prior\n",
    "        self.deadline=dead\n",
    "#tasks= #load from some file\n",
    "print(\"Your current uncompleted tasks are as follows\\n\")\n",
    "print(*tasks, sep= '\\n')\n"
   ]
  },
  {
   "cell_type": "code",
   "execution_count": null,
   "metadata": {},
   "outputs": [],
   "source": [
    "def change_time_format():\n",
    "    change=input(\"Current time format is \"+time_format+\"-hour format. Other time format avalaible is 12 hour format (DDMMYYYY), enter YES to change, NO to not change:\")\n",
    "    if change.lower()=='yes':\n",
    "        data_dict[\"time_format\"]=\"12\"\n",
    "    else:\n",
    "        return None"
   ]
  },
  {
   "cell_type": "code",
   "execution_count": null,
   "metadata": {},
   "outputs": [],
   "source": [
    "def new_task_input(task_list):\n",
    "    format=input(\"Do you want to use 12 hour format or 24 hour format? Default format is 24 hr format. Type 12 for 12 hour format:\")\n",
    "    Name=input(\"Give name of Task:\")\n",
    "    Description=input(\"Give description of Task:\")\n",
    "    priority=-1#\n",
    "    while priority < 0 or priority >10:\n",
    "        try:\n",
    "            priority=float(input(\"Give priority of Task from 0 to 10:\"))\n",
    "        except ValueError:\n",
    "            continue\n",
    "    datetime_format_24='%Y-%m-%d %H:%M:%S'\n",
    "    datetime_format_12='%d-%m-%Y %I:%M %p'\n",
    "    valid_deadline=False#Becomes true when valid deadline input is given\n",
    "    while valid_deadline==False:\n",
    "        if data_dict[\"time_format\"]=='12':\n",
    "            try:\n",
    "                deadline=datetime.strptime(input(\"Give deadline\"), datetime_format_12) #date should be input in format '28-02-2023 02:30 PM'(DDMMYYYY)\n",
    "                valid_deadline=True\n",
    "            except:\n",
    "                print('date should be input in format \"28-02-2023 02:30 PM\"(DDMMYYYY)')\n",
    "                continue\n",
    "        else:\n",
    "            try:\n",
    "                deadline=datetime.strptime(input(\"Give deadline\"), datetime_format_24) #date should be input in format '2023-02-28 14:30:00'\n",
    "                valid_deadline=True\n",
    "            except:\n",
    "                print('date should be input in format \"2023-02-28 14:30:00\"')\n",
    "                continue\n",
    "    deadline_timestamp=datetime.timestamp(deadline) #Gives the UNIX timestamp\n",
    "    new_task={'NAME':Name,'DESCRIPTION':Description,'PRIORITY':priority,'DEADLINE':deadline_timestamp}#deadline is stored as timestamp, while printing convert to required format\n",
    "    if data_dict.has_key(task_list):\n",
    "        data_dict[task_list].append(new_task)\n",
    "    else:\n",
    "        data_dict[task_list]=[]# if user making brand new list, then will have to make new array\n",
    "        data_dict[task_list].append(new_task)\n",
    "    with open('tasks.json','w') as outfile: #'w' specifies write mode, clears all data already present then writes from scratch\n",
    "        json.dump(data_dict, outfile)#dumping tasks list with the new task appended"
   ]
  },
  {
   "cell_type": "code",
   "execution_count": null,
   "metadata": {},
   "outputs": [],
   "source": []
  },
  {
   "cell_type": "code",
   "execution_count": null,
   "metadata": {},
   "outputs": [],
   "source": [
    "def view(task_list):\n",
    "    return data_dict[task_list] #just returning right now as not started on UI yet."
   ]
  },
  {
   "cell_type": "code",
   "execution_count": null,
   "metadata": {},
   "outputs": [],
   "source": [
    "def sort(task_list, criteria):\n",
    "    if not data_dict.has_key(task_list) or task_list=='time_format':#Handling invalid input\n",
    "        print(\"Enter Valid task list name\")\n",
    "    if criteria=='deadline':\n",
    "        sorted_list=[]\n",
    "        for task in data_dict[task_list]:\n",
    "            sorted_list.append((task['DEADLINE'],(task['NAME'],task['DESCRIPTION'],task['PRIORITY'])))\n",
    "        sorted_list.sort(reverse=True)\n",
    "        #made priority queue in format (((name,desc),prior),deadline)\n",
    "        return sorted_list\n",
    "    elif criteria=='priority':\n",
    "        sorted_list=[]\n",
    "        for task in data_dict[task_list]:\n",
    "            sorted_list.append((task['PRIORITY'],(task['NAME'],task['DESCRIPTION'],task['DEADLINE'])))\n",
    "        sorted_list.sort()\n",
    "        #made priority queue in format(((name,desc),deadline),prior) \n",
    "        return sorted_list\n",
    "    else:\n",
    "        print('Enter valid criteria(\"deadline\" or \"priority\")')"
   ]
  },
  {
   "cell_type": "code",
   "execution_count": null,
   "metadata": {},
   "outputs": [],
   "source": [
    "action=('Press ADD to add a new task, VIEW ')"
   ]
  }
 ],
 "metadata": {
  "language_info": {
   "name": "python"
  }
 },
 "nbformat": 4,
 "nbformat_minor": 2
}
