{
 "cells": [
  {
   "cell_type": "code",
   "execution_count": null,
   "metadata": {},
   "outputs": [],
   "source": [
    "#Backend for To_Do list manager"
   ]
  },
  {
   "cell_type": "code",
   "execution_count": null,
   "metadata": {},
   "outputs": [],
   "source": [
    "from datetime import datetime\n",
    "import json"
   ]
  },
  {
   "cell_type": "code",
   "execution_count": null,
   "metadata": {},
   "outputs": [],
   "source": [
    "print(\"<<<<Welcome to Task Manager>>>>\")\n",
    "imp_file=open('tasks.json')\n",
    "task_arr=json.load(imp_file)\n",
    "class tasks:\n",
    "    def __init__(self, nam, desc,prior,dead):\n",
    "        self.name=nam\n",
    "        self.description=desc\n",
    "        self.priority=prior\n",
    "        self.deadline=dead\n",
    "#tasks= #load from some file\n",
    "print(\"Your current uncompleted tasks are as follows\\n\")\n",
    "print(*tasks, sep= '\\n')\n"
   ]
  },
  {
   "cell_type": "code",
   "execution_count": null,
   "metadata": {},
   "outputs": [],
   "source": [
    "i=0 #number of times below function is called in one session\n",
    "def new_task_input():\n",
    "    i+=1\n",
    "    format=input(\"Do you want to use 12 hour format or 24 hour format? Default format is 24 hr format. Type 12 for 12 hour format:\")\n",
    "    Name=input(\"Give name of Task:\")\n",
    "    Description=input(\"Give description of Task:\")\n",
    "    priority=-1#\n",
    "    while priority < 0 or priority >10:\n",
    "        try:\n",
    "            priority=float(input(\"Give priority of Task from 0 to 10:\"))\n",
    "        except ValueError:\n",
    "            continue\n",
    "    datetime_format_24='%Y-%m-%d %H:%M:%S'\n",
    "    datetime_format_12='%d-%m-%Y %I:%M %p'\n",
    "    valid_deadline=False#Becomes true when valid deadline input is given\n",
    "    while valid_deadline==False:\n",
    "        if format=='12':\n",
    "            try:\n",
    "                deadline=datetime.strptime(input(\"Give deadline\"), datetime_format_12) #date should be input in format '28-02-2023 02:30 PM'(DDMMYYYY)\n",
    "                valid_deadline=True\n",
    "            except:\n",
    "                print('date should be input in format \"28-02-2023 02:30 PM\"(DDMMYYYY)')\n",
    "                continue\n",
    "        else:\n",
    "            try:\n",
    "                deadline=datetime.strptime(input(\"Give deadline\"), datetime_format_24) #date should be input in format '2023-02-28 14:30:00'\n",
    "                valid_deadline=True\n",
    "            except:\n",
    "                print('date should be input in format \"2023-02-28 14:30:00\"')\n",
    "                continue\n",
    "    deadline_timestamp=datetime.timestamp(deadline) #Gives the UNIX timestamp\n",
    "    new_task={'NAME':Name,'DESCRIPTION':Description,'PRIORITY':priority,'DEADLINE':deadline}\n",
    "    task_arr.append(new_task)\n",
    "    with open('tasks.json','w') as outfile: #'w' specifies write mode, clears all data already present then writes from scratch\n",
    "        json.dump(task_arr, outfile)#dumping tasks list with the new task appended"
   ]
  },
  {
   "cell_type": "code",
   "execution_count": null,
   "metadata": {},
   "outputs": [],
   "source": [
    "def view():\n",
    "    return task_arr #just returning right now as not started on UI yet."
   ]
  },
  {
   "cell_type": "code",
   "execution_count": null,
   "metadata": {},
   "outputs": [],
   "source": [
    "def sort(criteria):\n",
    "    if criteria=='deadline':\n",
    "        \n",
    "    if criteria=='priority':\n",
    "        "
   ]
  },
  {
   "cell_type": "code",
   "execution_count": null,
   "metadata": {},
   "outputs": [],
   "source": [
    "action=('Press ADD to add a new task, VIEW ')"
   ]
  }
 ],
 "metadata": {
  "language_info": {
   "name": "python"
  }
 },
 "nbformat": 4,
 "nbformat_minor": 2
}
