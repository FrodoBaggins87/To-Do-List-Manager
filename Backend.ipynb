{
 "cells": [
  {
   "cell_type": "code",
   "execution_count": null,
   "metadata": {},
   "outputs": [],
   "source": [
    "#Backend for To_Do list manager"
   ]
  },
  {
   "cell_type": "code",
   "execution_count": null,
   "metadata": {},
   "outputs": [],
   "source": [
    "from datetime import datetime\n",
    "import json\n",
    "import collections"
   ]
  },
  {
   "cell_type": "code",
   "execution_count": null,
   "metadata": {},
   "outputs": [],
   "source": [
    "print(\"<<<<Welcome to Task Manager>>>>\")\n",
    "imp_file=open('tasks.json')\n",
    "data_dict=json.load(imp_file)\n",
    "time_format=data_dict[\"time_format\"]\n",
    "#tasks= #load from some file\n",
    "print(\"Your current uncompleted tasks are as follows\\n\")\n",
    "for key in data_dict:\n",
    "    if key !=\"time_format\":\n",
    "        print(key,end='\\n') #prints all tasks lists in terminal, each in separate line\n"
   ]
  },
  {
   "cell_type": "code",
   "execution_count": null,
   "metadata": {},
   "outputs": [],
   "source": [
    "def change_time_format():\n",
    "    change=input(\"Current time format is \"+time_format+\"-hour format. Other time format avalaible is 12 hour format (DDMMYYYY), enter YES to change, NO to not change:\")\n",
    "    if change.lower()=='yes':\n",
    "        data_dict[\"time_format\"]=\"12\"\n",
    "    else:\n",
    "        return None"
   ]
  },
  {
   "cell_type": "code",
   "execution_count": null,
   "metadata": {},
   "outputs": [],
   "source": [
    "def new_task_input(task_list):\n",
    "    Name=input(\"Give name of Task:\")\n",
    "    Description=input(\"Give description of Task:\")\n",
    "    priority=-1#\n",
    "    while priority < 0 or priority >10:\n",
    "        try:\n",
    "            priority=float(input(\"Give priority of Task from 0 to 10:\"))\n",
    "        except ValueError:\n",
    "            continue\n",
    "    datetime_format_24='%Y-%m-%d %H:%M:%S'\n",
    "    datetime_format_12='%d-%m-%Y %I:%M %p'\n",
    "    valid_deadline=False#Becomes true when valid deadline input is given\n",
    "    while valid_deadline==False:\n",
    "        if data_dict[\"time_format\"]=='12':\n",
    "            try:\n",
    "                deadline=datetime.strptime(input(\"Give deadline\"), datetime_format_12) #date should be input in format '28-02-2023 02:30 PM'(DDMMYYYY)\n",
    "                valid_deadline=True\n",
    "            except:\n",
    "                print('date should be input in format \"28-02-2023 02:30 PM\"(DDMMYYYY)')\n",
    "                continue\n",
    "        else:\n",
    "            try:\n",
    "                deadline=datetime.strptime(input(\"Give deadline\"), datetime_format_24) #date should be input in format '2023-02-28 14:30:00'\n",
    "                valid_deadline=True\n",
    "            except:\n",
    "                print('date should be input in format \"2023-02-28 14:30:00\"')\n",
    "                continue\n",
    "    deadline_timestamp=datetime.timestamp(deadline) #Gives the UNIX timestamp\n",
    "    new_task={'NAME':Name,'DESCRIPTION':Description,'PRIORITY':priority,'DEADLINE':deadline_timestamp, 'COMPLETE':False}#deadline is stored as timestamp, while printing convert to required format\n",
    "    if data_dict.has_key(task_list):\n",
    "        data_dict[task_list].append(new_task)\n",
    "    else:\n",
    "        data_dict[task_list]=[]# if user making brand new list, then will have to make new array\n",
    "        data_dict[task_list].append(new_task)\n",
    "    with open('tasks.json','w') as outfile: #'w' specifies write mode, clears all data already present then writes from scratch\n",
    "        json.dump(data_dict, outfile)#dumping tasks list with the new task appended"
   ]
  },
  {
   "cell_type": "code",
   "execution_count": null,
   "metadata": {},
   "outputs": [],
   "source": [
    "def #make a function to show names of all task lists present and call wherever invalid task list name is called by user"
   ]
  },
  {
   "cell_type": "code",
   "execution_count": null,
   "metadata": {},
   "outputs": [],
   "source": [
    "def view(task_list):\n",
    "    if not data_dict.has_key(task_list) or task_list=='time_format':#Handling invalid input\n",
    "        print(\"Enter Valid task list name\")\n",
    "        return\n",
    "    for task in data_dict[task_list]:\n",
    "        if task['COMPLETE']:\n",
    "            data_dict[task_list].pop()#removing tasks marked as complete\n",
    "        else:\n",
    "            continue\n",
    "    return data_dict[task_list] #just returning right now as not started on UI yet."
   ]
  },
  {
   "cell_type": "code",
   "execution_count": null,
   "metadata": {},
   "outputs": [],
   "source": [
    "def sort(task_list, criteria):\n",
    "    if not data_dict.has_key(task_list) or task_list=='time_format':#Handling invalid input\n",
    "        print(\"Enter Valid task list name\")\n",
    "        return\n",
    "    if criteria=='deadline':\n",
    "        sorted_list=[]\n",
    "        for task in data_dict[task_list]:\n",
    "            if not task['COMPLETE']:\n",
    "                sorted_list.append((task['DEADLINE'],(task['NAME'],task['DESCRIPTION'],task['PRIORITY'])))\n",
    "        sorted_list.sort(reverse=True)\n",
    "        #made priority queue in format (((name,desc),prior),deadline) only of uncompleted tasks\n",
    "        return sorted_list\n",
    "    elif criteria=='priority':\n",
    "        sorted_list=[]\n",
    "        for task in data_dict[task_list]:\n",
    "            if not task['COMPLETE']:\n",
    "                sorted_list.append((task['PRIORITY'],(task['NAME'],task['DESCRIPTION'],task['DEADLINE'])))\n",
    "        sorted_list.sort()\n",
    "        #made priority queue in format(((name,desc),deadline),prior) only of uncompleted tasks\n",
    "        return sorted_list\n",
    "    else:\n",
    "        print('Enter valid criteria(\"deadline\" or \"priority\")')"
   ]
  },
  {
   "cell_type": "code",
   "execution_count": null,
   "metadata": {},
   "outputs": [],
   "source": [
    "def mark_as_completed(task_list, task_name):#not sure if input should be task or taskname right now using taskname, may have to chang ewhile making UI\n",
    "    if not data_dict.has_key(task_list) or task_list=='time_format':#Handling invalid input\n",
    "        print(\"Enter Valid task list name\")\n",
    "    else:\n",
    "        i=0#to check if a task with mentioned name exists or not\n",
    "        for task in data_dict[task_list]:\n",
    "            if task['NAME']==task_name:\n",
    "                if task['COMPLETE']: \n",
    "                    print('Task already marked as complete')\n",
    "                else:\n",
    "                    task['COMPLETE']=True\n",
    "                i=1\n",
    "            else:\n",
    "                continue\n",
    "        if i==0:\n",
    "            print(\"Task with name\", task_name, \"could not be found\")\n",
    "    #mark specific tasks to be completed"
   ]
  },
  {
   "cell_type": "code",
   "execution_count": null,
   "metadata": {},
   "outputs": [],
   "source": [
    "def mark_as_incomplete(task_list, task_name):#not sure if input should be task or taskname right now using taskname, may have to change while making UI\n",
    "    if not data_dict.has_key(task_list) or task_list=='time_format':#Handling invalid input\n",
    "        print(\"Enter Valid task list name\")\n",
    "    else:\n",
    "        i=0\n",
    "        for task in data_dict[task_list]:\n",
    "            if task['NAME']==task_name:\n",
    "                if not task['COMPLETE']: \n",
    "                    print('Task already marked as incomplete')\n",
    "                else:\n",
    "                    task['COMPLETE']=False\n",
    "                i=1\n",
    "            else:\n",
    "                continue\n",
    "        if i==0:\n",
    "            print(\"Task with name\", task_name, \"could not be found\")"
   ]
  },
  {
   "cell_type": "code",
   "execution_count": null,
   "metadata": {},
   "outputs": [],
   "source": [
    "def give_completed(task_list):\n",
    "    if not data_dict.has_key(task_list) or task_list=='time_format':#Handling invalid input\n",
    "        print(\"Enter Valid task list name\")\n",
    "    else:\n",
    "        complete_tasks=collections.deque()#makes a stack of completed tasks using the loop below\n",
    "        for task in data_dict[task_list]:\n",
    "            if task['COMPLETE']:\n",
    "                complete_tasks.append(task)\n",
    "        return complete_tasks"
   ]
  },
  {
   "cell_type": "code",
   "execution_count": null,
   "metadata": {},
   "outputs": [],
   "source": [
    "def delete_task(task_list, task_name):\n",
    "    try:\n",
    "        task_list=str(task_list)\n",
    "        task_name=str(task_name)\n",
    "    except:\n",
    "        print(\"Something wrong with input, cannot be converted to string\")\n",
    "        return\n",
    "    try:\n",
    "        temp=0\n",
    "        for task in data_dict[task_list]:\n",
    "            if task[\"NAME\"]== task_name:\n",
    "                data_dict[task_list].remove(task)\n",
    "                temp+=1\n",
    "        if temp==0:\n",
    "            print(\"No task with name\", task_name,\"found.\")\n",
    "        else:\n",
    "            with open('tasks.json','w') as outfile: #'w' specifies write mode, clears all data already present then writes from scratch\n",
    "                json.dump(data_dict, outfile)#dumping tasks list with the task with with name task_name removed, doesnt return anything\n",
    "    except KeyError:\n",
    "        print(\"No task list with name\", task_list,\"found.\")"
   ]
  },
  {
   "cell_type": "code",
   "execution_count": null,
   "metadata": {},
   "outputs": [],
   "source": [
    "def delete_task_list(task_list):\n",
    "    try:\n",
    "        task_list=str(task_list)\n",
    "    except:\n",
    "        print(\"Something wrong with input, cannot be converted to string\")\n",
    "        return\n",
    "    try:\n",
    "        if data_dict.has_key(task_list) and task_list !=\"time_format\":\n",
    "            del data_dict[task_list]\n",
    "            with open('tasks.json','w') as outfile:#if input given correctly function just opens tasks.json and dumps dictionary after deleting task_list key and value pair, doesnt return anything\n",
    "                json.dump(data_dict, outfile)\n",
    "        else:\n",
    "            print(\"No task list with name\", task_list,\"found.\")\n",
    "    except Exception as e:\n",
    "        print(\"Something is wrong try again, following error occuring\", e)\n"
   ]
  },
  {
   "cell_type": "code",
   "execution_count": null,
   "metadata": {},
   "outputs": [],
   "source": [
    "def delete_complete_tasks(task_list):\n",
    "    try:\n",
    "        task_list=str(task_list)\n",
    "    except:\n",
    "        print(\"Something wrong with input, cannot be converted to string\")\n",
    "        return\n",
    "    try:\n",
    "        if data_dict.has_key(task_list) and task_list !=\"time_format\":\n",
    "            for task in data_dict[task_list]:\n",
    "                if task['COMPLETE']:\n",
    "                    delete_task(task_list, task['NAME'])\n",
    "        elif task_list.lower()=='all':#deleting completed tasks from all tasks lists at once, looping through dictionary, skipping over the time_format key, deleting tasks marked as completed in each list\n",
    "            for key in data_dict:\n",
    "                if key==\"time_format\":\n",
    "                    continue\n",
    "                else:\n",
    "                    for task in data_dict[key]:\n",
    "                        if task['COMPLETE']:\n",
    "                            delete_task(task_list, task['NAME'])\n",
    "    except Exception as e:\n",
    "        print(\"Something is wrong, following error occuring, try again\",e)"
   ]
  },
  {
   "cell_type": "code",
   "execution_count": null,
   "metadata": {},
   "outputs": [],
   "source": [
    "#define function to send reminder mail for completing tasks 24hr before deadline"
   ]
  },
  {
   "cell_type": "markdown",
   "metadata": {},
   "source": [
    "Defining function for text based interaction with user"
   ]
  },
  {
   "cell_type": "code",
   "execution_count": null,
   "metadata": {},
   "outputs": [],
   "source": [
    "def take_user_input():\n",
    "    action=input(\"Enter Action to be performed, enter 'HELP' to display documentation\")\n",
    "    action=str(action)\n",
    "    if action.lower()=='help':\n",
    "        print(\"USAGE: [function] [input1] [input2] [input3] ...\\n Used to manage To-Do lists \\n Following functions are provided\\n 'CHANGE TIME FORMAT'\\n '[NEWTASK] [TASK_LIST_NAME]' \\n '[VIEW] [TASK_LIST_NAME]' \\n '[SORT] [TASK_LIST_NAME] [CRITERIA]'(Enter Criteria as 'deadline' or 'priority')\\n '[COMPLETED] [TASK_LIST_NAME]' \\n '[TASKINCOMPLETE] [TASK_LIST_NAME]' \\n '[GIVECOMPLETE] [TASK_LIST_NAME]'(single space in between function and inputs)\")\n",
    "        take_user_input()#calling recursively so code doesnt stop running because after code finishes\n",
    "    elif action.lower().replace(\" \",\"\")== 'changetimeformat':\n",
    "        change_time_format()\n",
    "        take_user_input()\n",
    "    elif action.lower().split()[0]== 'newtask':\n",
    "        new_task_input(action[8:].strip())#selecting name written after the NEWTASK command\n",
    "        take_user_input()\n",
    "    elif action.lower().split()[0]== 'view':\n",
    "        print(view(action[5:].strip()))\n",
    "        take_user_input()\n",
    "    elif action.lower().split()[0]== 'sort':\n",
    "        sort(\" \".join(action.split()[1:-1]), action.split()[-1].strip())\n",
    "        take_user_input()\n",
    "    elif action.lower().split()[0]== 'completed':\n",
    "        try:\n",
    "            task_name= str(input(\"Enter name of task to be marked complete: \\n\"))\n",
    "            mark_as_completed(action[10:].strip(),task_name)\n",
    "        except Exception as e:\n",
    "            print(\"Following error occuring\",e)\n",
    "        take_user_input()\n",
    "    elif action.lower().split()[0]== 'taskincomplete':\n",
    "        try:\n",
    "            task_name= str(input(\"Enter name of task to be marked incomplete: \\n\"))\n",
    "            mark_as_completed(action[15:].strip(),task_name)\n",
    "        except Exception as e:\n",
    "            print(\"Following error occuring\",e)\n",
    "    elif action.lower().split()[0]=='givecomplete':\n",
    "        print(give_completed(action[13:].strip()))\n",
    "    elif #delete_task\n",
    "        \n",
    "    elif #delete_task_list\n",
    "        \n",
    "    elif #delete_complete_tasks\n",
    "        \n",
    "    elif #show all task_lists\n"
   ]
  }
 ],
 "metadata": {
  "language_info": {
   "name": "python"
  }
 },
 "nbformat": 4,
 "nbformat_minor": 2
}
